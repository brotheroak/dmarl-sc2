{
 "cells": [
  {
   "cell_type": "code",
   "execution_count": 1,
   "metadata": {},
   "outputs": [],
   "source": [
    "from smac.env import StarCraft2Env\n",
    "import numpy as np\n"
   ]
  },
  {
   "cell_type": "code",
   "execution_count": 2,
   "metadata": {},
   "outputs": [],
   "source": [
    "env = StarCraft2Env(map_name=\"8m\")\n",
    "env_info = env.get_env_info()\n",
    "\n",
    "n_actions = env_info[\"n_actions\"]\n",
    "n_agents = env_info[\"n_agents\"]\n",
    "\n"
   ]
  },
  {
   "cell_type": "code",
   "execution_count": 3,
   "metadata": {},
   "outputs": [
    {
     "data": {
      "text/plain": [
       "{'state_shape': 168,\n",
       " 'obs_shape': 80,\n",
       " 'n_actions': 14,\n",
       " 'n_agents': 8,\n",
       " 'episode_limit': 120}"
      ]
     },
     "execution_count": 3,
     "metadata": {},
     "output_type": "execute_result"
    }
   ],
   "source": [
    "env_info"
   ]
  },
  {
   "cell_type": "code",
   "execution_count": 6,
   "metadata": {},
   "outputs": [
    {
     "name": "stdout",
     "output_type": "stream",
     "text": [
      "Total reward in episode 0 = 2.625\n",
      "Total reward in episode 1 = 1.5\n",
      "Total reward in episode 2 = 1.3125\n",
      "Total reward in episode 3 = 1.6875\n",
      "Total reward in episode 4 = 2.0625\n",
      "Total reward in episode 5 = 0.9375\n",
      "Total reward in episode 6 = 1.875\n",
      "Total reward in episode 7 = 2.25\n",
      "Total reward in episode 8 = 2.625\n",
      "Total reward in episode 9 = 1.6875\n",
      "Total reward in episode 10 = 1.3125\n",
      "Total reward in episode 11 = 1.5\n",
      "Total reward in episode 12 = 1.875\n",
      "Total reward in episode 13 = 1.6875\n",
      "Total reward in episode 14 = 1.6875\n",
      "Total reward in episode 15 = 2.0625\n",
      "Total reward in episode 16 = 2.625\n",
      "Total reward in episode 17 = 1.5\n",
      "Total reward in episode 18 = 2.8125\n",
      "Total reward in episode 19 = 1.3125\n",
      "Total reward in episode 20 = 2.0625\n",
      "Total reward in episode 21 = 1.875\n",
      "Total reward in episode 22 = 2.25\n",
      "Total reward in episode 23 = 2.0625\n",
      "Total reward in episode 24 = 1.6875\n",
      "Total reward in episode 25 = 1.5\n",
      "Total reward in episode 26 = 2.8125\n",
      "Total reward in episode 27 = 2.4375\n",
      "Total reward in episode 28 = 1.5\n",
      "Total reward in episode 29 = 1.5\n",
      "Total reward in episode 30 = 1.125\n",
      "Total reward in episode 31 = 1.6875\n",
      "Total reward in episode 32 = 1.3125\n",
      "Total reward in episode 33 = 1.875\n",
      "Total reward in episode 34 = 1.875\n",
      "Total reward in episode 35 = 2.0625\n",
      "Total reward in episode 36 = 1.875\n",
      "Total reward in episode 37 = 1.875\n",
      "Total reward in episode 38 = 1.3125\n",
      "Total reward in episode 39 = 1.3125\n",
      "Total reward in episode 40 = 1.6875\n",
      "Total reward in episode 41 = 1.6875\n",
      "Total reward in episode 42 = 1.3125\n",
      "Total reward in episode 43 = 1.6875\n",
      "Total reward in episode 44 = 1.875\n",
      "Total reward in episode 45 = 1.875\n",
      "Total reward in episode 46 = 1.3125\n",
      "Total reward in episode 47 = 3.0\n",
      "Total reward in episode 48 = 1.875\n",
      "Total reward in episode 49 = 2.0625\n",
      "Total reward in episode 50 = 2.0625\n",
      "Total reward in episode 51 = 1.6875\n",
      "Total reward in episode 52 = 1.3125\n",
      "Total reward in episode 53 = 1.6875\n",
      "Total reward in episode 54 = 1.6875\n",
      "Total reward in episode 55 = 2.0625\n",
      "Total reward in episode 56 = 2.25\n",
      "Total reward in episode 57 = 2.25\n",
      "Total reward in episode 58 = 1.5\n",
      "Total reward in episode 59 = 1.6875\n",
      "Total reward in episode 60 = 1.875\n",
      "Total reward in episode 61 = 1.6875\n",
      "Total reward in episode 62 = 2.25\n",
      "Total reward in episode 63 = 1.6875\n",
      "Total reward in episode 64 = 1.6875\n",
      "Total reward in episode 65 = 2.25\n",
      "Total reward in episode 66 = 1.3125\n",
      "Total reward in episode 67 = 2.25\n",
      "Total reward in episode 68 = 2.8125\n",
      "Total reward in episode 69 = 1.5\n",
      "Total reward in episode 70 = 1.6875\n",
      "Total reward in episode 71 = 2.0625\n",
      "Total reward in episode 72 = 2.4375\n",
      "Total reward in episode 73 = 2.0625\n",
      "Total reward in episode 74 = 2.0625\n",
      "Total reward in episode 75 = 1.6875\n",
      "Total reward in episode 76 = 1.5\n",
      "Total reward in episode 77 = 1.875\n",
      "Total reward in episode 78 = 1.3125\n",
      "Total reward in episode 79 = 1.6875\n",
      "Total reward in episode 80 = 2.25\n",
      "Total reward in episode 81 = 2.25\n",
      "Total reward in episode 82 = 2.25\n",
      "Total reward in episode 83 = 0.9375\n",
      "Total reward in episode 84 = 2.4375\n",
      "Total reward in episode 85 = 2.4375\n",
      "Total reward in episode 86 = 1.875\n",
      "Total reward in episode 87 = 1.5\n",
      "Total reward in episode 88 = 1.6875\n",
      "Total reward in episode 89 = 1.6875\n",
      "Total reward in episode 90 = 1.875\n",
      "Total reward in episode 91 = 2.4375\n",
      "Total reward in episode 92 = 2.0625\n",
      "Total reward in episode 93 = 2.0625\n",
      "Total reward in episode 94 = 2.4375\n",
      "Total reward in episode 95 = 1.6875\n",
      "Total reward in episode 96 = 2.25\n",
      "Total reward in episode 97 = 2.25\n",
      "Total reward in episode 98 = 2.0625\n",
      "Total reward in episode 99 = 1.6875\n"
     ]
    }
   ],
   "source": [
    "n_episodes = 100\n",
    "\n",
    "for e in range(n_episodes):\n",
    "    env.reset()\n",
    "    terminated = False\n",
    "    episode_reward = 0\n",
    "\n",
    "    while not terminated:\n",
    "        obs = env.get_obs()\n",
    "        state = env.get_state()\n",
    "\n",
    "        actions = []\n",
    "        for agent_id in range(n_agents):\n",
    "            avail_actions = env.get_avail_agent_actions(agent_id)\n",
    "            avail_actions_ind = np.nonzero(avail_actions)[0]\n",
    "            action = np.random.choice(avail_actions_ind)\n",
    "            actions.append(action)\n",
    "\n",
    "        reward, terminated, _ = env.step(actions)\n",
    "        episode_reward += reward\n",
    "\n",
    "    print(\"Total reward in episode {} = {}\".format(e, episode_reward))\n",
    "\n",
    "env.close()"
   ]
  },
  {
   "cell_type": "code",
   "execution_count": null,
   "metadata": {},
   "outputs": [],
   "source": []
  },
  {
   "cell_type": "code",
   "execution_count": null,
   "metadata": {},
   "outputs": [],
   "source": []
  }
 ],
 "metadata": {
  "kernelspec": {
   "display_name": "starcraft2",
   "language": "python",
   "name": "starcraft2"
  },
  "language_info": {
   "codemirror_mode": {
    "name": "ipython",
    "version": 3
   },
   "file_extension": ".py",
   "mimetype": "text/x-python",
   "name": "python",
   "nbconvert_exporter": "python",
   "pygments_lexer": "ipython3",
   "version": "3.8.1"
  }
 },
 "nbformat": 4,
 "nbformat_minor": 4
}
